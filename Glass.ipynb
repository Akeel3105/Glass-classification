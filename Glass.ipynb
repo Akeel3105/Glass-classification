{
 "cells": [
  {
   "cell_type": "code",
   "execution_count": null,
   "metadata": {},
   "outputs": [],
   "source": [
    "# A brief of dataset"
   ]
  },
  {
   "cell_type": "code",
   "execution_count": null,
   "metadata": {},
   "outputs": [],
   "source": [
    "'''\n",
    "This is a Glass Identification Data Set from UCI. It contains 10 attributes including id. The response is glass type\n",
    "(discrete 7 values)\n",
    "Attribute Information:\n",
    "\n",
    "Id number: 1 to 214 (removed from CSV file)\n",
    "RI: refractive index\n",
    "Na: Sodium (unit measurement: weight percent in corresponding oxide, as are attributes 4-10)\n",
    "Mg: Magnesium\n",
    "Al: Aluminum\n",
    "Si: Silicon\n",
    "K: Potassium\n",
    "Ca: Calcium\n",
    "Ba: Barium\n",
    "Fe: Iron\n",
    "Type of glass: (class attribute) -- 1 building_windows_float_processed -- 2 building_windows_non_float_processed -- \n",
    "3 vehicle_windows_float_processed -- 4 vehicle_windows_non_float_processed (none in this database) -- 5 containers -- \n",
    "6 tableware -- 7 headlamps\n",
    "'''"
   ]
  },
  {
   "cell_type": "code",
   "execution_count": null,
   "metadata": {},
   "outputs": [],
   "source": [
    "# Importing reqiured libraries"
   ]
  },
  {
   "cell_type": "code",
   "execution_count": 1,
   "metadata": {},
   "outputs": [],
   "source": [
    "import numpy as np\n",
    "import pandas as pd\n",
    "import matplotlib.pyplot as plt\n",
    "%matplotlib inline\n",
    "import seaborn as sns\n",
    "from sklearn.preprocessing import LabelEncoder\n",
    "from sklearn import datasets\n",
    "from sklearn.metrics import r2_score\n",
    "from sklearn.preprocessing import StandardScaler\n",
    "from sklearn import linear_model\n",
    "from sklearn.metrics import mean_squared_error\n",
    "from sklearn.model_selection import train_test_split\n",
    "from sklearn import svm\n",
    "from sklearn.tree import DecisionTreeClassifier\n",
    "from sklearn.ensemble import RandomForestClassifier\n",
    "from sklearn.linear_model import LogisticRegression\n",
    "from sklearn.metrics import roc_curve, auc ,accuracy_score,cohen_kappa_score,confusion_matrix,classification_report,recall_score,precision_score\n",
    "from pprint import pprint\n",
    "from sklearn.ensemble import RandomForestRegressor\n",
    "from sklearn.tree import DecisionTreeRegressor\n",
    "from sklearn.preprocessing import LabelEncoder\n",
    "from sklearn.decomposition import PCA\n",
    "import sklearn.feature_selection\n",
    "from sklearn.neighbors import KNeighborsClassifier\n",
    "from sklearn.metrics import confusion_matrix\n",
    "from sklearn.cluster import KMeans\n",
    "from sklearn import preprocessing\n",
    "from sklearn.metrics import silhouette_score\n",
    "from sklearn.linear_model import LinearRegression\n",
    "from sklearn.metrics import mean_absolute_error\n",
    "from pandas.plotting import scatter_matrix\n",
    "from sklearn.discriminant_analysis import LinearDiscriminantAnalysis\n",
    "from sklearn.naive_bayes import GaussianNB\n",
    "from sklearn.model_selection import StratifiedKFold\n",
    "from sklearn.metrics import classification_report\n",
    "from sklearn.svm import SVC\n",
    "from sklearn.model_selection import cross_val_score\n",
    "from matplotlib import pyplot\n",
    "from sklearn.svm import SVR\n",
    "from sklearn.ensemble import BaggingClassifier\n",
    "from sklearn.linear_model import LinearRegression\n",
    "from sklearn.neighbors import KNeighborsRegressor\n",
    "from sklearn.feature_selection import SelectKBest\n",
    "from sklearn.feature_selection import chi2\n",
    "from statsmodels.stats.outliers_influence import variance_inflation_factor\n",
    "from sklearn.utils import resample\n",
    "from sklearn.ensemble import ExtraTreesClassifier\n",
    "from sklearn.preprocessing import PolynomialFeatures\n",
    "from sklearn.discriminant_analysis import QuadraticDiscriminantAnalysis\n",
    "from sklearn.linear_model import SGDClassifier"
   ]
  },
  {
   "cell_type": "code",
   "execution_count": null,
   "metadata": {},
   "outputs": [],
   "source": [
    "# loading dataset"
   ]
  },
  {
   "cell_type": "code",
   "execution_count": 2,
   "metadata": {},
   "outputs": [],
   "source": [
    "gs=pd.read_csv(\"C://Users//acer//Desktop//1sem//python//glass//glass.csv\")"
   ]
  },
  {
   "cell_type": "code",
   "execution_count": null,
   "metadata": {},
   "outputs": [],
   "source": [
    "# first few rows"
   ]
  },
  {
   "cell_type": "code",
   "execution_count": 3,
   "metadata": {},
   "outputs": [
    {
     "data": {
      "text/html": [
       "<div>\n",
       "<style scoped>\n",
       "    .dataframe tbody tr th:only-of-type {\n",
       "        vertical-align: middle;\n",
       "    }\n",
       "\n",
       "    .dataframe tbody tr th {\n",
       "        vertical-align: top;\n",
       "    }\n",
       "\n",
       "    .dataframe thead th {\n",
       "        text-align: right;\n",
       "    }\n",
       "</style>\n",
       "<table border=\"1\" class=\"dataframe\">\n",
       "  <thead>\n",
       "    <tr style=\"text-align: right;\">\n",
       "      <th></th>\n",
       "      <th>RI</th>\n",
       "      <th>Na</th>\n",
       "      <th>Mg</th>\n",
       "      <th>Al</th>\n",
       "      <th>Si</th>\n",
       "      <th>K</th>\n",
       "      <th>Ca</th>\n",
       "      <th>Ba</th>\n",
       "      <th>Fe</th>\n",
       "      <th>Type</th>\n",
       "    </tr>\n",
       "  </thead>\n",
       "  <tbody>\n",
       "    <tr>\n",
       "      <td>0</td>\n",
       "      <td>1.52101</td>\n",
       "      <td>13.64</td>\n",
       "      <td>4.49</td>\n",
       "      <td>1.10</td>\n",
       "      <td>71.78</td>\n",
       "      <td>0.06</td>\n",
       "      <td>8.75</td>\n",
       "      <td>0.0</td>\n",
       "      <td>0.0</td>\n",
       "      <td>1</td>\n",
       "    </tr>\n",
       "    <tr>\n",
       "      <td>1</td>\n",
       "      <td>1.51761</td>\n",
       "      <td>13.89</td>\n",
       "      <td>3.60</td>\n",
       "      <td>1.36</td>\n",
       "      <td>72.73</td>\n",
       "      <td>0.48</td>\n",
       "      <td>7.83</td>\n",
       "      <td>0.0</td>\n",
       "      <td>0.0</td>\n",
       "      <td>1</td>\n",
       "    </tr>\n",
       "    <tr>\n",
       "      <td>2</td>\n",
       "      <td>1.51618</td>\n",
       "      <td>13.53</td>\n",
       "      <td>3.55</td>\n",
       "      <td>1.54</td>\n",
       "      <td>72.99</td>\n",
       "      <td>0.39</td>\n",
       "      <td>7.78</td>\n",
       "      <td>0.0</td>\n",
       "      <td>0.0</td>\n",
       "      <td>1</td>\n",
       "    </tr>\n",
       "  </tbody>\n",
       "</table>\n",
       "</div>"
      ],
      "text/plain": [
       "        RI     Na    Mg    Al     Si     K    Ca   Ba   Fe  Type\n",
       "0  1.52101  13.64  4.49  1.10  71.78  0.06  8.75  0.0  0.0     1\n",
       "1  1.51761  13.89  3.60  1.36  72.73  0.48  7.83  0.0  0.0     1\n",
       "2  1.51618  13.53  3.55  1.54  72.99  0.39  7.78  0.0  0.0     1"
      ]
     },
     "execution_count": 3,
     "metadata": {},
     "output_type": "execute_result"
    }
   ],
   "source": [
    "gs.head(3)"
   ]
  },
  {
   "cell_type": "code",
   "execution_count": null,
   "metadata": {},
   "outputs": [],
   "source": [
    "# last few rows"
   ]
  },
  {
   "cell_type": "code",
   "execution_count": 4,
   "metadata": {},
   "outputs": [
    {
     "data": {
      "text/html": [
       "<div>\n",
       "<style scoped>\n",
       "    .dataframe tbody tr th:only-of-type {\n",
       "        vertical-align: middle;\n",
       "    }\n",
       "\n",
       "    .dataframe tbody tr th {\n",
       "        vertical-align: top;\n",
       "    }\n",
       "\n",
       "    .dataframe thead th {\n",
       "        text-align: right;\n",
       "    }\n",
       "</style>\n",
       "<table border=\"1\" class=\"dataframe\">\n",
       "  <thead>\n",
       "    <tr style=\"text-align: right;\">\n",
       "      <th></th>\n",
       "      <th>RI</th>\n",
       "      <th>Na</th>\n",
       "      <th>Mg</th>\n",
       "      <th>Al</th>\n",
       "      <th>Si</th>\n",
       "      <th>K</th>\n",
       "      <th>Ca</th>\n",
       "      <th>Ba</th>\n",
       "      <th>Fe</th>\n",
       "      <th>Type</th>\n",
       "    </tr>\n",
       "  </thead>\n",
       "  <tbody>\n",
       "    <tr>\n",
       "      <td>211</td>\n",
       "      <td>1.52065</td>\n",
       "      <td>14.36</td>\n",
       "      <td>0.0</td>\n",
       "      <td>2.02</td>\n",
       "      <td>73.42</td>\n",
       "      <td>0.0</td>\n",
       "      <td>8.44</td>\n",
       "      <td>1.64</td>\n",
       "      <td>0.0</td>\n",
       "      <td>7</td>\n",
       "    </tr>\n",
       "    <tr>\n",
       "      <td>212</td>\n",
       "      <td>1.51651</td>\n",
       "      <td>14.38</td>\n",
       "      <td>0.0</td>\n",
       "      <td>1.94</td>\n",
       "      <td>73.61</td>\n",
       "      <td>0.0</td>\n",
       "      <td>8.48</td>\n",
       "      <td>1.57</td>\n",
       "      <td>0.0</td>\n",
       "      <td>7</td>\n",
       "    </tr>\n",
       "    <tr>\n",
       "      <td>213</td>\n",
       "      <td>1.51711</td>\n",
       "      <td>14.23</td>\n",
       "      <td>0.0</td>\n",
       "      <td>2.08</td>\n",
       "      <td>73.36</td>\n",
       "      <td>0.0</td>\n",
       "      <td>8.62</td>\n",
       "      <td>1.67</td>\n",
       "      <td>0.0</td>\n",
       "      <td>7</td>\n",
       "    </tr>\n",
       "  </tbody>\n",
       "</table>\n",
       "</div>"
      ],
      "text/plain": [
       "          RI     Na   Mg    Al     Si    K    Ca    Ba   Fe  Type\n",
       "211  1.52065  14.36  0.0  2.02  73.42  0.0  8.44  1.64  0.0     7\n",
       "212  1.51651  14.38  0.0  1.94  73.61  0.0  8.48  1.57  0.0     7\n",
       "213  1.51711  14.23  0.0  2.08  73.36  0.0  8.62  1.67  0.0     7"
      ]
     },
     "execution_count": 4,
     "metadata": {},
     "output_type": "execute_result"
    }
   ],
   "source": [
    "gs.tail(3)"
   ]
  },
  {
   "cell_type": "code",
   "execution_count": null,
   "metadata": {},
   "outputs": [],
   "source": [
    "# all col names"
   ]
  },
  {
   "cell_type": "code",
   "execution_count": 5,
   "metadata": {},
   "outputs": [
    {
     "data": {
      "text/plain": [
       "Index(['RI', 'Na', 'Mg', 'Al', 'Si', 'K', 'Ca', 'Ba', 'Fe', 'Type'], dtype='object')"
      ]
     },
     "execution_count": 5,
     "metadata": {},
     "output_type": "execute_result"
    }
   ],
   "source": [
    "gs.columns"
   ]
  },
  {
   "cell_type": "code",
   "execution_count": null,
   "metadata": {},
   "outputs": [],
   "source": [
    "# renaming all column in lower case"
   ]
  },
  {
   "cell_type": "code",
   "execution_count": 6,
   "metadata": {},
   "outputs": [],
   "source": [
    "gs.columns=map(str.lower,gs.columns)"
   ]
  },
  {
   "cell_type": "code",
   "execution_count": null,
   "metadata": {},
   "outputs": [],
   "source": [
    "# Listing all col datatype"
   ]
  },
  {
   "cell_type": "code",
   "execution_count": 7,
   "metadata": {},
   "outputs": [
    {
     "data": {
      "text/plain": [
       "ri      float64\n",
       "na      float64\n",
       "mg      float64\n",
       "al      float64\n",
       "si      float64\n",
       "k       float64\n",
       "ca      float64\n",
       "ba      float64\n",
       "fe      float64\n",
       "type      int64\n",
       "dtype: object"
      ]
     },
     "execution_count": 7,
     "metadata": {},
     "output_type": "execute_result"
    }
   ],
   "source": [
    "gs.dtypes"
   ]
  },
  {
   "cell_type": "code",
   "execution_count": null,
   "metadata": {},
   "outputs": [],
   "source": [
    "# null values"
   ]
  },
  {
   "cell_type": "code",
   "execution_count": 8,
   "metadata": {},
   "outputs": [
    {
     "data": {
      "text/plain": [
       "ri      0\n",
       "na      0\n",
       "mg      0\n",
       "al      0\n",
       "si      0\n",
       "k       0\n",
       "ca      0\n",
       "ba      0\n",
       "fe      0\n",
       "type    0\n",
       "dtype: int64"
      ]
     },
     "execution_count": 8,
     "metadata": {},
     "output_type": "execute_result"
    }
   ],
   "source": [
    "gs.isna().sum()"
   ]
  },
  {
   "cell_type": "code",
   "execution_count": null,
   "metadata": {},
   "outputs": [],
   "source": [
    "# Data visualization"
   ]
  },
  {
   "cell_type": "code",
   "execution_count": 10,
   "metadata": {},
   "outputs": [
    {
     "data": {
      "image/png": "[encoded data removed]",
      "text/plain": [
       "<Figure size 720x720 with 12 Axes>"
      ]
     },
     "metadata": {
      "needs_background": "light"
     },
     "output_type": "display_data"
    }
   ],
   "source": [
    "gs.hist(figsize=(10,10),color=\"blue\",edgecolor=\"red\")\n",
    "plt.show()"
   ]
  },
  {
   "cell_type": "code",
   "execution_count": null,
   "metadata": {},
   "outputs": [],
   "source": [
    "# using countplot"
   ]
  },
  {
   "cell_type": "code",
   "execution_count": 13,
   "metadata": {},
   "outputs": [
    {
     "data": {
      "text/plain": [
       "<matplotlib.axes._subplots.AxesSubplot at 0x1ed56cd7b38>"
      ]
     },
     "execution_count": 13,
     "metadata": {},
     "output_type": "execute_result"
    },
    {
     "data": {
      "image/png": "[encoded data removed]",
      "text/plain": [
       "<Figure size 432x288 with 1 Axes>"
      ]
     },
     "metadata": {
      "needs_background": "light"
     },
     "output_type": "display_data"
    }
   ],
   "source": [
    "sns.countplot(x=\"na\",hue=\"type\",data=gs)"
   ]
  },
  {
   "cell_type": "code",
   "execution_count": null,
   "metadata": {},
   "outputs": [],
   "source": [
    "# using scatter plot"
   ]
  },
  {
   "cell_type": "code",
   "execution_count": 14,
   "metadata": {},
   "outputs": [
    {
     "data": {
      "text/plain": [
       "<matplotlib.axes._subplots.AxesSubplot at 0x1ed574336d8>"
      ]
     },
     "execution_count": 14,
     "metadata": {},
     "output_type": "execute_result"
    },
    {
     "data": {
      "image/png": "[encoded data removed]",
      "text/plain": [
       "<Figure size 432x288 with 1 Axes>"
      ]
     },
     "metadata": {
      "needs_background": "light"
     },
     "output_type": "display_data"
    }
   ],
   "source": [
    "sns.scatterplot(x=\"k\",y=\"type\",data=gs)"
   ]
  },
  {
   "cell_type": "code",
   "execution_count": null,
   "metadata": {},
   "outputs": [],
   "source": [
    "# heat map"
   ]
  },
  {
   "cell_type": "code",
   "execution_count": 15,
   "metadata": {},
   "outputs": [
    {
     "data": {
      "text/plain": [
       "<matplotlib.axes._subplots.AxesSubplot at 0x1ed57459f28>"
      ]
     },
     "execution_count": 15,
     "metadata": {},
     "output_type": "execute_result"
    },
    {
     "data": {
      "image/png": "[encoded data removed]",
      "text/plain": [
       "<Figure size 432x288 with 2 Axes>"
      ]
     },
     "metadata": {
      "needs_background": "light"
     },
     "output_type": "display_data"
    }
   ],
   "source": [
    "gs_corr=gs.corr()\n",
    "sns.heatmap(gs_corr,annot=True,cmap=\"Dark2\")"
   ]
  },
  {
   "cell_type": "code",
   "execution_count": null,
   "metadata": {},
   "outputs": [],
   "source": [
    "# dividing dataset into dependent and independent variables"
   ]
  },
  {
   "cell_type": "code",
   "execution_count": 16,
   "metadata": {},
   "outputs": [],
   "source": [
    "y=gs[\"type\"]\n",
    "x=gs.drop(\"type\",axis=1)"
   ]
  },
  {
   "cell_type": "code",
   "execution_count": null,
   "metadata": {},
   "outputs": [],
   "source": [
    "# Looking at feature importance"
   ]
  },
  {
   "cell_type": "code",
   "execution_count": 17,
   "metadata": {},
   "outputs": [
    {
     "name": "stdout",
     "output_type": "stream",
     "text": [
      "[0.13470445 0.09546856 0.17920303 0.1458733  0.08142227 0.10277673\n",
      " 0.11900814 0.08201911 0.05952442]\n"
     ]
    },
    {
     "name": "stderr",
     "output_type": "stream",
     "text": [
      "c:\\users\\acer\\appdata\\local\\programs\\python\\python36\\lib\\site-packages\\sklearn\\ensemble\\forest.py:245: FutureWarning: The default value of n_estimators will change from 10 in version 0.20 to 100 in 0.22.\n",
      "  \"10 in version 0.20 to 100 in 0.22.\", FutureWarning)\n"
     ]
    }
   ],
   "source": [
    "model=ExtraTreesClassifier()\n",
    "model.fit(x,y)\n",
    "print(model.feature_importances_)"
   ]
  },
  {
   "cell_type": "code",
   "execution_count": 18,
   "metadata": {},
   "outputs": [
    {
     "data": {
      "image/png": "[encoded data removed]",
      "text/plain": [
       "<Figure size 432x288 with 1 Axes>"
      ]
     },
     "metadata": {
      "needs_background": "light"
     },
     "output_type": "display_data"
    }
   ],
   "source": [
    "feat_imp=pd.Series(model.feature_importances_,index=x.columns)\n",
    "feat_imp.nlargest(10).plot(kind=\"bar\")\n",
    "plt.show()"
   ]
  },
  {
   "cell_type": "code",
   "execution_count": null,
   "metadata": {},
   "outputs": [],
   "source": [
    "# using chi2"
   ]
  },
  {
   "cell_type": "code",
   "execution_count": 29,
   "metadata": {},
   "outputs": [],
   "source": [
    "bestfeats=SelectKBest(score_func=chi2,k=9)\n",
    "fit=bestfeats.fit(x,y)\n",
    "dfscore=pd.DataFrame(fit.scores_)\n",
    "dfcol=pd.DataFrame(x.columns)\n",
    "featscore=pd.concat([dfscore,dfcol],axis=1)\n",
    "featscore.columns=[\"score\",\"features\"]"
   ]
  },
  {
   "cell_type": "code",
   "execution_count": 39,
   "metadata": {},
   "outputs": [
    {
     "data": {
      "text/html": [
       "<div>\n",
       "<style scoped>\n",
       "    .dataframe tbody tr th:only-of-type {\n",
       "        vertical-align: middle;\n",
       "    }\n",
       "\n",
       "    .dataframe tbody tr th {\n",
       "        vertical-align: top;\n",
       "    }\n",
       "\n",
       "    .dataframe thead th {\n",
       "        text-align: right;\n",
       "    }\n",
       "</style>\n",
       "<table border=\"1\" class=\"dataframe\">\n",
       "  <thead>\n",
       "    <tr style=\"text-align: right;\">\n",
       "      <th></th>\n",
       "      <th>score</th>\n",
       "      <th>features</th>\n",
       "    </tr>\n",
       "  </thead>\n",
       "  <tbody>\n",
       "    <tr>\n",
       "      <td>7</td>\n",
       "      <td>145.514077</td>\n",
       "      <td>ba</td>\n",
       "    </tr>\n",
       "    <tr>\n",
       "      <td>2</td>\n",
       "      <td>100.984212</td>\n",
       "      <td>mg</td>\n",
       "    </tr>\n",
       "    <tr>\n",
       "      <td>5</td>\n",
       "      <td>31.670632</td>\n",
       "      <td>k</td>\n",
       "    </tr>\n",
       "    <tr>\n",
       "      <td>3</td>\n",
       "      <td>16.977488</td>\n",
       "      <td>al</td>\n",
       "    </tr>\n",
       "    <tr>\n",
       "      <td>1</td>\n",
       "      <td>4.311253</td>\n",
       "      <td>na</td>\n",
       "    </tr>\n",
       "    <tr>\n",
       "      <td>6</td>\n",
       "      <td>3.210929</td>\n",
       "      <td>ca</td>\n",
       "    </tr>\n",
       "    <tr>\n",
       "      <td>8</td>\n",
       "      <td>2.170185</td>\n",
       "      <td>fe</td>\n",
       "    </tr>\n",
       "    <tr>\n",
       "      <td>4</td>\n",
       "      <td>0.110449</td>\n",
       "      <td>si</td>\n",
       "    </tr>\n",
       "    <tr>\n",
       "      <td>0</td>\n",
       "      <td>0.000048</td>\n",
       "      <td>ri</td>\n",
       "    </tr>\n",
       "  </tbody>\n",
       "</table>\n",
       "</div>"
      ],
      "text/plain": [
       "        score features\n",
       "7  145.514077       ba\n",
       "2  100.984212       mg\n",
       "5   31.670632        k\n",
       "3   16.977488       al\n",
       "1    4.311253       na\n",
       "6    3.210929       ca\n",
       "8    2.170185       fe\n",
       "4    0.110449       si\n",
       "0    0.000048       ri"
      ]
     },
     "execution_count": 39,
     "metadata": {},
     "output_type": "execute_result"
    }
   ],
   "source": [
    "featscore.nlargest(9,\"score\")"
   ]
  },
  {
   "cell_type": "code",
   "execution_count": null,
   "metadata": {},
   "outputs": [],
   "source": [
    "# splitting into training and test split"
   ]
  },
  {
   "cell_type": "code",
   "execution_count": 40,
   "metadata": {},
   "outputs": [],
   "source": [
    "x_train,x_test,y_train,y_test=train_test_split(x,y,test_size=0.3,random_state=42)"
   ]
  },
  {
   "cell_type": "code",
   "execution_count": null,
   "metadata": {},
   "outputs": [],
   "source": [
    "# printing the shape of datatset"
   ]
  },
  {
   "cell_type": "code",
   "execution_count": 41,
   "metadata": {},
   "outputs": [
    {
     "name": "stdout",
     "output_type": "stream",
     "text": [
      "shape of x_train is: (149, 9)\n",
      "shape of y_train is: (149,)\n",
      "shape of x_test is: (65, 9)\n",
      "shape of y_test is: (65,)\n"
     ]
    }
   ],
   "source": [
    "print(\"shape of x_train is:\",x_train.shape)\n",
    "print(\"shape of y_train is:\",y_train.shape)\n",
    "print(\"shape of x_test is:\",x_test.shape)\n",
    "print(\"shape of y_test is:\",y_test.shape)"
   ]
  },
  {
   "cell_type": "code",
   "execution_count": null,
   "metadata": {},
   "outputs": [],
   "source": [
    "# applying ml algo"
   ]
  },
  {
   "cell_type": "code",
   "execution_count": null,
   "metadata": {},
   "outputs": [],
   "source": [
    "# using lda"
   ]
  },
  {
   "cell_type": "code",
   "execution_count": 42,
   "metadata": {},
   "outputs": [],
   "source": [
    "lda=LinearDiscriminantAnalysis()\n",
    "lda.fit(x_train,y_train)\n",
    "prediction=lda.predict(x_test)"
   ]
  },
  {
   "cell_type": "code",
   "execution_count": 43,
   "metadata": {},
   "outputs": [
    {
     "name": "stdout",
     "output_type": "stream",
     "text": [
      "     Act  Predicted\n",
      "9      1          1\n",
      "197    7          7\n",
      "66     1          1\n",
      "191    7          7\n",
      "117    2          2\n",
      "..   ...        ...\n",
      "5      1          2\n",
      "135    2          2\n",
      "56     1          3\n",
      "199    7          7\n",
      "173    5          3\n",
      "\n",
      "[65 rows x 2 columns]\n"
     ]
    }
   ],
   "source": [
    "output=pd.DataFrame({\"Act\":y_test,\"Predicted\":prediction})\n",
    "print(output)"
   ]
  },
  {
   "cell_type": "code",
   "execution_count": null,
   "metadata": {},
   "outputs": [],
   "source": [
    "# evaluating result"
   ]
  },
  {
   "cell_type": "code",
   "execution_count": 49,
   "metadata": {},
   "outputs": [
    {
     "name": "stdout",
     "output_type": "stream",
     "text": [
      "accuracy score is 0.6461538461538462\n",
      "Kappa is : 0.5246422893481717\n",
      "array([[16,  2,  1,  0,  0,  0],\n",
      "       [ 6, 15,  1,  0,  1,  0],\n",
      "       [ 3,  1,  0,  0,  0,  0],\n",
      "       [ 0,  2,  1,  1,  2,  0],\n",
      "       [ 0,  0,  0,  0,  2,  1],\n",
      "       [ 1,  0,  0,  0,  1,  8]], dtype=int64)\n",
      "('              precision    recall  f1-score   support\\n'\n",
      " '\\n'\n",
      " '           1       0.62      0.84      0.71        19\\n'\n",
      " '           2       0.75      0.65      0.70        23\\n'\n",
      " '           3       0.00      0.00      0.00         4\\n'\n",
      " '           5       1.00      0.17      0.29         6\\n'\n",
      " '           6       0.33      0.67      0.44         3\\n'\n",
      " '           7       0.89      0.80      0.84        10\\n'\n",
      " '\\n'\n",
      " '    accuracy                           0.65        65\\n'\n",
      " '   macro avg       0.60      0.52      0.50        65\\n'\n",
      " 'weighted avg       0.69      0.65      0.63        65\\n')\n"
     ]
    }
   ],
   "source": [
    "print(\"accuracy score is {}\".format(accuracy_score(y_test,prediction)))\n",
    "print(\"Kappa is :\",cohen_kappa_score(y_test,prediction))\n",
    "# print(\"Sensitiviy is :\",recall_score(y_test, prediction))\n",
    "# print(\"Precision is :\",precision_score(y_test, prediction))\n",
    "# print(\"R2 score is:\",r2_score(y_test,prediction))\n",
    "# fpr, tpr, thresholds = roc_curve(y_test,prediction)\n",
    "# print(\"Area under curve is  :{}\".format(auc(fpr,tpr)))\n",
    "pprint(confusion_matrix(y_test, prediction))\n",
    "pprint(classification_report(y_test, prediction))"
   ]
  },
  {
   "cell_type": "code",
   "execution_count": null,
   "metadata": {},
   "outputs": [],
   "source": [
    "# using log reg"
   ]
  },
  {
   "cell_type": "code",
   "execution_count": 51,
   "metadata": {},
   "outputs": [
    {
     "name": "stderr",
     "output_type": "stream",
     "text": [
      "c:\\users\\acer\\appdata\\local\\programs\\python\\python36\\lib\\site-packages\\sklearn\\linear_model\\logistic.py:432: FutureWarning: Default solver will be changed to 'lbfgs' in 0.22. Specify a solver to silence this warning.\n",
      "  FutureWarning)\n",
      "c:\\users\\acer\\appdata\\local\\programs\\python\\python36\\lib\\site-packages\\sklearn\\linear_model\\logistic.py:469: FutureWarning: Default multi_class will be changed to 'auto' in 0.22. Specify the multi_class option to silence this warning.\n",
      "  \"this warning.\", FutureWarning)\n"
     ]
    }
   ],
   "source": [
    "lr=LogisticRegression()\n",
    "lr.fit(x_train,y_train)\n",
    "prediction=lr.predict(x_test)"
   ]
  },
  {
   "cell_type": "code",
   "execution_count": 52,
   "metadata": {},
   "outputs": [
    {
     "name": "stdout",
     "output_type": "stream",
     "text": [
      "     Act  Predicted\n",
      "9      1          1\n",
      "197    7          7\n",
      "66     1          1\n",
      "191    7          7\n",
      "117    2          2\n",
      "..   ...        ...\n",
      "5      1          2\n",
      "135    2          1\n",
      "56     1          1\n",
      "199    7          7\n",
      "173    5          2\n",
      "\n",
      "[65 rows x 2 columns]\n"
     ]
    }
   ],
   "source": [
    "output=pd.DataFrame({\"Act\":y_test,\"Predicted\":prediction})\n",
    "print(output)"
   ]
  },
  {
   "cell_type": "code",
   "execution_count": 55,
   "metadata": {},
   "outputs": [
    {
     "name": "stdout",
     "output_type": "stream",
     "text": [
      "accuracy score is 0.6461538461538462\n",
      "Kappa is : 0.5029920212765957\n",
      "Sensitiviy is : 0.6461538461538462\n",
      "Precision is : 0.6461538461538462\n",
      "R2 score is: 0.6516129032258065\n",
      "array([[15,  4,  0,  0,  0,  0],\n",
      "       [ 6, 16,  0,  0,  0,  1],\n",
      "       [ 2,  2,  0,  0,  0,  0],\n",
      "       [ 0,  5,  0,  1,  0,  0],\n",
      "       [ 0,  1,  0,  0,  0,  2],\n",
      "       [ 0,  0,  0,  0,  0, 10]], dtype=int64)\n",
      "('              precision    recall  f1-score   support\\n'\n",
      " '\\n'\n",
      " '           1       0.65      0.79      0.71        19\\n'\n",
      " '           2       0.57      0.70      0.63        23\\n'\n",
      " '           3       0.00      0.00      0.00         4\\n'\n",
      " '           5       1.00      0.17      0.29         6\\n'\n",
      " '           6       0.00      0.00      0.00         3\\n'\n",
      " '           7       0.77      1.00      0.87        10\\n'\n",
      " '\\n'\n",
      " '    accuracy                           0.65        65\\n'\n",
      " '   macro avg       0.50      0.44      0.42        65\\n'\n",
      " 'weighted avg       0.60      0.65      0.59        65\\n')\n"
     ]
    },
    {
     "name": "stderr",
     "output_type": "stream",
     "text": [
      "c:\\users\\acer\\appdata\\local\\programs\\python\\python36\\lib\\site-packages\\sklearn\\metrics\\classification.py:1259: UserWarning: Note that pos_label (set to 'positive') is ignored when average != 'binary' (got 'micro'). You may use labels=[pos_label] to specify a single positive class.\n",
      "  % (pos_label, average), UserWarning)\n",
      "c:\\users\\acer\\appdata\\local\\programs\\python\\python36\\lib\\site-packages\\sklearn\\metrics\\classification.py:1437: UndefinedMetricWarning: Precision and F-score are ill-defined and being set to 0.0 in labels with no predicted samples.\n",
      "  'precision', 'predicted', average, warn_for)\n"
     ]
    }
   ],
   "source": [
    "print(\"accuracy score is {}\".format(accuracy_score(y_test,prediction)))\n",
    "print(\"Kappa is :\",cohen_kappa_score(y_test,prediction))\n",
    "print(\"Sensitiviy is :\",recall_score(y_test, prediction,pos_label=\"positive\",average=\"micro\"))\n",
    "print(\"Precision is :\",precision_score(y_test, prediction,pos_label=\"positive\",average=\"micro\"))\n",
    "print(\"R2 score is:\",r2_score(y_test,prediction))\n",
    "# fpr, tpr, thresholds = roc_curve(y_test,prediction)\n",
    "# print(\"Area under curve is  :{}\".format(auc(fpr,tpr)))\n",
    "pprint(confusion_matrix(y_test, prediction))\n",
    "pprint(classification_report(y_test, prediction))"
   ]
  },
  {
   "cell_type": "code",
   "execution_count": null,
   "metadata": {},
   "outputs": [],
   "source": [
    "# using qda"
   ]
  },
  {
   "cell_type": "code",
   "execution_count": 58,
   "metadata": {},
   "outputs": [
    {
     "name": "stderr",
     "output_type": "stream",
     "text": [
      "c:\\users\\acer\\appdata\\local\\programs\\python\\python36\\lib\\site-packages\\sklearn\\discriminant_analysis.py:693: UserWarning: Variables are collinear\n",
      "  warnings.warn(\"Variables are collinear\")\n",
      "c:\\users\\acer\\appdata\\local\\programs\\python\\python36\\lib\\site-packages\\sklearn\\discriminant_analysis.py:717: RuntimeWarning: divide by zero encountered in power\n",
      "  X2 = np.dot(Xm, R * (S ** (-0.5)))\n",
      "c:\\users\\acer\\appdata\\local\\programs\\python\\python36\\lib\\site-packages\\sklearn\\discriminant_analysis.py:717: RuntimeWarning: invalid value encountered in multiply\n",
      "  X2 = np.dot(Xm, R * (S ** (-0.5)))\n",
      "c:\\users\\acer\\appdata\\local\\programs\\python\\python36\\lib\\site-packages\\sklearn\\discriminant_analysis.py:720: RuntimeWarning: divide by zero encountered in log\n",
      "  u = np.asarray([np.sum(np.log(s)) for s in self.scalings_])\n"
     ]
    }
   ],
   "source": [
    "qda=QuadraticDiscriminantAnalysis()\n",
    "qda.fit(x_train,y_train)\n",
    "prediction=qda.predict(x_test)"
   ]
  },
  {
   "cell_type": "code",
   "execution_count": 59,
   "metadata": {},
   "outputs": [
    {
     "name": "stdout",
     "output_type": "stream",
     "text": [
      "     Act  Predicted\n",
      "9      1          3\n",
      "197    7          3\n",
      "66     1          3\n",
      "191    7          3\n",
      "117    2          3\n",
      "..   ...        ...\n",
      "5      1          3\n",
      "135    2          3\n",
      "56     1          3\n",
      "199    7          3\n",
      "173    5          3\n",
      "\n",
      "[65 rows x 2 columns]\n"
     ]
    }
   ],
   "source": [
    "output=pd.DataFrame({\"Act\":y_test,\"Predicted\":prediction})\n",
    "print(output)"
   ]
  },
  {
   "cell_type": "code",
   "execution_count": 60,
   "metadata": {},
   "outputs": [
    {
     "name": "stdout",
     "output_type": "stream",
     "text": [
      "accuracy score is 0.06153846153846154\n",
      "Kappa is : 0.0\n",
      "Sensitiviy is : 0.06153846153846154\n",
      "Precision is : 0.06153846153846154\n",
      "R2 score is: 0.0\n",
      "array([[ 0,  0, 19,  0,  0,  0],\n",
      "       [ 0,  0, 23,  0,  0,  0],\n",
      "       [ 0,  0,  4,  0,  0,  0],\n",
      "       [ 0,  0,  6,  0,  0,  0],\n",
      "       [ 0,  0,  3,  0,  0,  0],\n",
      "       [ 0,  0, 10,  0,  0,  0]], dtype=int64)\n",
      "('              precision    recall  f1-score   support\\n'\n",
      " '\\n'\n",
      " '           1       0.00      0.00      0.00        19\\n'\n",
      " '           2       0.00      0.00      0.00        23\\n'\n",
      " '           3       0.06      1.00      0.12         4\\n'\n",
      " '           5       0.00      0.00      0.00         6\\n'\n",
      " '           6       0.00      0.00      0.00         3\\n'\n",
      " '           7       0.00      0.00      0.00        10\\n'\n",
      " '\\n'\n",
      " '    accuracy                           0.06        65\\n'\n",
      " '   macro avg       0.01      0.17      0.02        65\\n'\n",
      " 'weighted avg       0.00      0.06      0.01        65\\n')\n"
     ]
    },
    {
     "name": "stderr",
     "output_type": "stream",
     "text": [
      "c:\\users\\acer\\appdata\\local\\programs\\python\\python36\\lib\\site-packages\\sklearn\\metrics\\classification.py:1259: UserWarning: Note that pos_label (set to 'positive') is ignored when average != 'binary' (got 'micro'). You may use labels=[pos_label] to specify a single positive class.\n",
      "  % (pos_label, average), UserWarning)\n",
      "c:\\users\\acer\\appdata\\local\\programs\\python\\python36\\lib\\site-packages\\sklearn\\metrics\\classification.py:1437: UndefinedMetricWarning: Precision and F-score are ill-defined and being set to 0.0 in labels with no predicted samples.\n",
      "  'precision', 'predicted', average, warn_for)\n"
     ]
    }
   ],
   "source": [
    "print(\"accuracy score is {}\".format(accuracy_score(y_test,prediction)))\n",
    "print(\"Kappa is :\",cohen_kappa_score(y_test,prediction))\n",
    "print(\"Sensitiviy is :\",recall_score(y_test, prediction,pos_label=\"positive\",average=\"micro\"))\n",
    "print(\"Precision is :\",precision_score(y_test, prediction,pos_label=\"positive\",average=\"micro\"))\n",
    "print(\"R2 score is:\",r2_score(y_test,prediction))\n",
    "# fpr, tpr, thresholds = roc_curve(y_test,prediction)\n",
    "# print(\"Area under curve is  :{}\".format(auc(fpr,tpr)))\n",
    "pprint(confusion_matrix(y_test, prediction))\n",
    "pprint(classification_report(y_test, prediction))"
   ]
  },
  {
   "cell_type": "code",
   "execution_count": null,
   "metadata": {},
   "outputs": [],
   "source": [
    "# dt"
   ]
  },
  {
   "cell_type": "code",
   "execution_count": 61,
   "metadata": {},
   "outputs": [],
   "source": [
    "dt=DecisionTreeClassifier(criterion=\"entropy\",max_depth=20)\n",
    "dt.fit(x_train,y_train)\n",
    "prediction=dt.predict(x_test)"
   ]
  },
  {
   "cell_type": "code",
   "execution_count": 62,
   "metadata": {},
   "outputs": [
    {
     "name": "stdout",
     "output_type": "stream",
     "text": [
      "     Act  Predicted\n",
      "9      1          1\n",
      "197    7          7\n",
      "66     1          1\n",
      "191    7          7\n",
      "117    2          2\n",
      "..   ...        ...\n",
      "5      1          2\n",
      "135    2          1\n",
      "56     1          3\n",
      "199    7          7\n",
      "173    5          5\n",
      "\n",
      "[65 rows x 2 columns]\n"
     ]
    }
   ],
   "source": [
    "output=pd.DataFrame({\"Act\":y_test,\"Predicted\":prediction})\n",
    "print(output)"
   ]
  },
  {
   "cell_type": "code",
   "execution_count": 65,
   "metadata": {},
   "outputs": [
    {
     "name": "stdout",
     "output_type": "stream",
     "text": [
      "accuracy score is 0.7384615384615385\n",
      "Kappa is : 0.6585290482076638\n",
      "Sensitiviy is : 0.7384615384615385\n",
      "Precision is : 0.7384615384615385\n",
      "R2 score is: 0.42903225806451617\n",
      "array([[16,  1,  1,  0,  0,  1],\n",
      "       [ 7, 12,  0,  0,  1,  3],\n",
      "       [ 1,  0,  3,  0,  0,  0],\n",
      "       [ 0,  1,  0,  5,  0,  0],\n",
      "       [ 0,  0,  0,  0,  3,  0],\n",
      "       [ 0,  1,  0,  0,  0,  9]], dtype=int64)\n",
      "('              precision    recall  f1-score   support\\n'\n",
      " '\\n'\n",
      " '           1       0.67      0.84      0.74        19\\n'\n",
      " '           2       0.80      0.52      0.63        23\\n'\n",
      " '           3       0.75      0.75      0.75         4\\n'\n",
      " '           5       1.00      0.83      0.91         6\\n'\n",
      " '           6       0.75      1.00      0.86         3\\n'\n",
      " '           7       0.69      0.90      0.78        10\\n'\n",
      " '\\n'\n",
      " '    accuracy                           0.74        65\\n'\n",
      " '   macro avg       0.78      0.81      0.78        65\\n'\n",
      " 'weighted avg       0.76      0.74      0.73        65\\n')\n"
     ]
    },
    {
     "name": "stderr",
     "output_type": "stream",
     "text": [
      "c:\\users\\acer\\appdata\\local\\programs\\python\\python36\\lib\\site-packages\\sklearn\\metrics\\classification.py:1259: UserWarning: Note that pos_label (set to 'positive') is ignored when average != 'binary' (got 'micro'). You may use labels=[pos_label] to specify a single positive class.\n",
      "  % (pos_label, average), UserWarning)\n"
     ]
    }
   ],
   "source": [
    "print(\"accuracy score is {}\".format(accuracy_score(y_test,prediction)))\n",
    "print(\"Kappa is :\",cohen_kappa_score(y_test,prediction))\n",
    "print(\"Sensitiviy is :\",recall_score(y_test, prediction,pos_label=\"positive\",average=\"micro\"))\n",
    "print(\"Precision is :\",precision_score(y_test, prediction,pos_label=\"positive\",average=\"micro\"))\n",
    "print(\"R2 score is:\",r2_score(y_test,prediction))\n",
    "# fpr, tpr, thresholds = roc_curve(y_test,prediction)\n",
    "# print(\"Area under curve is  :{}\".format(auc(fpr,tpr)))\n",
    "pprint(confusion_matrix(y_test, prediction))\n",
    "pprint(classification_report(y_test, prediction))"
   ]
  },
  {
   "cell_type": "code",
   "execution_count": null,
   "metadata": {},
   "outputs": [],
   "source": [
    "# random forest"
   ]
  },
  {
   "cell_type": "code",
   "execution_count": 66,
   "metadata": {},
   "outputs": [
    {
     "name": "stderr",
     "output_type": "stream",
     "text": [
      "c:\\users\\acer\\appdata\\local\\programs\\python\\python36\\lib\\site-packages\\sklearn\\ensemble\\forest.py:245: FutureWarning: The default value of n_estimators will change from 10 in version 0.20 to 100 in 0.22.\n",
      "  \"10 in version 0.20 to 100 in 0.22.\", FutureWarning)\n"
     ]
    }
   ],
   "source": [
    "rf=RandomForestClassifier()\n",
    "rf.fit(x_train,y_train)\n",
    "prediction=rf.predict(x_test)"
   ]
  },
  {
   "cell_type": "code",
   "execution_count": 67,
   "metadata": {},
   "outputs": [
    {
     "name": "stdout",
     "output_type": "stream",
     "text": [
      "     Act  Predicted\n",
      "9      1          1\n",
      "197    7          7\n",
      "66     1          1\n",
      "191    7          7\n",
      "117    2          2\n",
      "..   ...        ...\n",
      "5      1          2\n",
      "135    2          2\n",
      "56     1          1\n",
      "199    7          7\n",
      "173    5          2\n",
      "\n",
      "[65 rows x 2 columns]\n"
     ]
    }
   ],
   "source": [
    "output=pd.DataFrame({\"Act\":y_test,\"Predicted\":prediction})\n",
    "print(output)"
   ]
  },
  {
   "cell_type": "code",
   "execution_count": 68,
   "metadata": {},
   "outputs": [
    {
     "name": "stdout",
     "output_type": "stream",
     "text": [
      "accuracy score is 0.7538461538461538\n",
      "Kappa is : 0.668261562998405\n",
      "Sensitiviy is : 0.7538461538461538\n",
      "Precision is : 0.7538461538461538\n",
      "R2 score is: 0.8161290322580645\n",
      "array([[17,  2,  0,  0,  0,  0],\n",
      "       [ 4, 16,  1,  2,  0,  0],\n",
      "       [ 2,  2,  0,  0,  0,  0],\n",
      "       [ 0,  2,  1,  3,  0,  0],\n",
      "       [ 0,  0,  0,  0,  3,  0],\n",
      "       [ 0,  0,  0,  0,  0, 10]], dtype=int64)\n",
      "('              precision    recall  f1-score   support\\n'\n",
      " '\\n'\n",
      " '           1       0.74      0.89      0.81        19\\n'\n",
      " '           2       0.73      0.70      0.71        23\\n'\n",
      " '           3       0.00      0.00      0.00         4\\n'\n",
      " '           5       0.60      0.50      0.55         6\\n'\n",
      " '           6       1.00      1.00      1.00         3\\n'\n",
      " '           7       1.00      1.00      1.00        10\\n'\n",
      " '\\n'\n",
      " '    accuracy                           0.75        65\\n'\n",
      " '   macro avg       0.68      0.68      0.68        65\\n'\n",
      " 'weighted avg       0.73      0.75      0.74        65\\n')\n"
     ]
    },
    {
     "name": "stderr",
     "output_type": "stream",
     "text": [
      "c:\\users\\acer\\appdata\\local\\programs\\python\\python36\\lib\\site-packages\\sklearn\\metrics\\classification.py:1259: UserWarning: Note that pos_label (set to 'positive') is ignored when average != 'binary' (got 'micro'). You may use labels=[pos_label] to specify a single positive class.\n",
      "  % (pos_label, average), UserWarning)\n"
     ]
    }
   ],
   "source": [
    "print(\"accuracy score is {}\".format(accuracy_score(y_test,prediction)))\n",
    "print(\"Kappa is :\",cohen_kappa_score(y_test,prediction))\n",
    "print(\"Sensitiviy is :\",recall_score(y_test, prediction,pos_label=\"positive\",average=\"micro\"))\n",
    "print(\"Precision is :\",precision_score(y_test, prediction,pos_label=\"positive\",average=\"micro\"))\n",
    "print(\"R2 score is:\",r2_score(y_test,prediction))\n",
    "# fpr, tpr, thresholds = roc_curve(y_test,prediction)\n",
    "# print(\"Area under curve is  :{}\".format(auc(fpr,tpr)))\n",
    "pprint(confusion_matrix(y_test, prediction))\n",
    "pprint(classification_report(y_test, prediction))"
   ]
  },
  {
   "cell_type": "code",
   "execution_count": 69,
   "metadata": {},
   "outputs": [],
   "source": [
    "knn=KNeighborsClassifier()\n",
    "knn.fit(x_train,y_train)\n",
    "prediction=knn.predict(x_test)"
   ]
  },
  {
   "cell_type": "code",
   "execution_count": 70,
   "metadata": {},
   "outputs": [
    {
     "name": "stdout",
     "output_type": "stream",
     "text": [
      "     Act  Predicted\n",
      "9      1          1\n",
      "197    7          7\n",
      "66     1          1\n",
      "191    7          7\n",
      "117    2          2\n",
      "..   ...        ...\n",
      "5      1          2\n",
      "135    2          2\n",
      "56     1          1\n",
      "199    7          7\n",
      "173    5          2\n",
      "\n",
      "[65 rows x 2 columns]\n"
     ]
    }
   ],
   "source": [
    "output=pd.DataFrame({\"Act\":y_test,\"Predicted\":prediction})\n",
    "print(output)"
   ]
  },
  {
   "cell_type": "code",
   "execution_count": 71,
   "metadata": {},
   "outputs": [
    {
     "name": "stdout",
     "output_type": "stream",
     "text": [
      "accuracy score is 0.5846153846153846\n",
      "Kappa is : 0.4327731092436974\n",
      "Sensitiviy is : 0.5846153846153846\n",
      "Precision is : 0.5846153846153846\n",
      "R2 score is: 0.44516129032258067\n",
      "array([[16,  2,  1,  0,  0,  0],\n",
      "       [ 7, 13,  1,  0,  2,  0],\n",
      "       [ 4,  0,  0,  0,  0,  0],\n",
      "       [ 1,  4,  0,  0,  0,  1],\n",
      "       [ 0,  1,  0,  0,  1,  1],\n",
      "       [ 1,  0,  0,  0,  1,  8]], dtype=int64)\n",
      "('              precision    recall  f1-score   support\\n'\n",
      " '\\n'\n",
      " '           1       0.55      0.84      0.67        19\\n'\n",
      " '           2       0.65      0.57      0.60        23\\n'\n",
      " '           3       0.00      0.00      0.00         4\\n'\n",
      " '           5       0.00      0.00      0.00         6\\n'\n",
      " '           6       0.25      0.33      0.29         3\\n'\n",
      " '           7       0.80      0.80      0.80        10\\n'\n",
      " '\\n'\n",
      " '    accuracy                           0.58        65\\n'\n",
      " '   macro avg       0.38      0.42      0.39        65\\n'\n",
      " 'weighted avg       0.53      0.58      0.55        65\\n')\n"
     ]
    },
    {
     "name": "stderr",
     "output_type": "stream",
     "text": [
      "c:\\users\\acer\\appdata\\local\\programs\\python\\python36\\lib\\site-packages\\sklearn\\metrics\\classification.py:1259: UserWarning: Note that pos_label (set to 'positive') is ignored when average != 'binary' (got 'micro'). You may use labels=[pos_label] to specify a single positive class.\n",
      "  % (pos_label, average), UserWarning)\n",
      "c:\\users\\acer\\appdata\\local\\programs\\python\\python36\\lib\\site-packages\\sklearn\\metrics\\classification.py:1437: UndefinedMetricWarning: Precision and F-score are ill-defined and being set to 0.0 in labels with no predicted samples.\n",
      "  'precision', 'predicted', average, warn_for)\n"
     ]
    }
   ],
   "source": [
    "print(\"accuracy score is {}\".format(accuracy_score(y_test,prediction)))\n",
    "print(\"Kappa is :\",cohen_kappa_score(y_test,prediction))\n",
    "print(\"Sensitiviy is :\",recall_score(y_test, prediction,pos_label=\"positive\",average=\"micro\"))\n",
    "print(\"Precision is :\",precision_score(y_test, prediction,pos_label=\"positive\",average=\"micro\"))\n",
    "print(\"R2 score is:\",r2_score(y_test,prediction))\n",
    "# fpr, tpr, thresholds = roc_curve(y_test,prediction)\n",
    "# print(\"Area under curve is  :{}\".format(auc(fpr,tpr)))\n",
    "pprint(confusion_matrix(y_test, prediction))\n",
    "pprint(classification_report(y_test, prediction))"
   ]
  },
  {
   "cell_type": "code",
   "execution_count": 72,
   "metadata": {},
   "outputs": [
    {
     "name": "stderr",
     "output_type": "stream",
     "text": [
      "c:\\users\\acer\\appdata\\local\\programs\\python\\python36\\lib\\site-packages\\sklearn\\svm\\base.py:193: FutureWarning: The default value of gamma will change from 'auto' to 'scale' in version 0.22 to account better for unscaled features. Set gamma explicitly to 'auto' or 'scale' to avoid this warning.\n",
      "  \"avoid this warning.\", FutureWarning)\n"
     ]
    }
   ],
   "source": [
    "svc=SVC()\n",
    "svc.fit(x_train,y_train)\n",
    "prediction=svc.predict(x_test)"
   ]
  },
  {
   "cell_type": "code",
   "execution_count": 73,
   "metadata": {},
   "outputs": [
    {
     "name": "stdout",
     "output_type": "stream",
     "text": [
      "     Act  Predicted\n",
      "9      1          1\n",
      "197    7          7\n",
      "66     1          1\n",
      "191    7          7\n",
      "117    2          2\n",
      "..   ...        ...\n",
      "5      1          2\n",
      "135    2          2\n",
      "56     1          1\n",
      "199    7          7\n",
      "173    5          2\n",
      "\n",
      "[65 rows x 2 columns]\n"
     ]
    }
   ],
   "source": [
    "output=pd.DataFrame({\"Act\":y_test,\"Predicted\":prediction})\n",
    "print(output)"
   ]
  },
  {
   "cell_type": "code",
   "execution_count": 74,
   "metadata": {},
   "outputs": [
    {
     "name": "stdout",
     "output_type": "stream",
     "text": [
      "accuracy score is 0.6461538461538462\n",
      "Kappa is : 0.5123939986953685\n",
      "Sensitiviy is : 0.6461538461538462\n",
      "Precision is : 0.6461538461538462\n",
      "R2 score is: 0.7\n",
      "array([[17,  2,  0,  0,  0,  0],\n",
      "       [11, 12,  0,  0,  0,  0],\n",
      "       [ 3,  1,  0,  0,  0,  0],\n",
      "       [ 1,  2,  0,  3,  0,  0],\n",
      "       [ 0,  2,  0,  0,  1,  0],\n",
      "       [ 0,  0,  0,  0,  1,  9]], dtype=int64)\n",
      "('              precision    recall  f1-score   support\\n'\n",
      " '\\n'\n",
      " '           1       0.53      0.89      0.67        19\\n'\n",
      " '           2       0.63      0.52      0.57        23\\n'\n",
      " '           3       0.00      0.00      0.00         4\\n'\n",
      " '           5       1.00      0.50      0.67         6\\n'\n",
      " '           6       0.50      0.33      0.40         3\\n'\n",
      " '           7       1.00      0.90      0.95        10\\n'\n",
      " '\\n'\n",
      " '    accuracy                           0.65        65\\n'\n",
      " '   macro avg       0.61      0.52      0.54        65\\n'\n",
      " 'weighted avg       0.65      0.65      0.62        65\\n')\n"
     ]
    },
    {
     "name": "stderr",
     "output_type": "stream",
     "text": [
      "c:\\users\\acer\\appdata\\local\\programs\\python\\python36\\lib\\site-packages\\sklearn\\metrics\\classification.py:1259: UserWarning: Note that pos_label (set to 'positive') is ignored when average != 'binary' (got 'micro'). You may use labels=[pos_label] to specify a single positive class.\n",
      "  % (pos_label, average), UserWarning)\n",
      "c:\\users\\acer\\appdata\\local\\programs\\python\\python36\\lib\\site-packages\\sklearn\\metrics\\classification.py:1437: UndefinedMetricWarning: Precision and F-score are ill-defined and being set to 0.0 in labels with no predicted samples.\n",
      "  'precision', 'predicted', average, warn_for)\n"
     ]
    }
   ],
   "source": [
    "print(\"accuracy score is {}\".format(accuracy_score(y_test,prediction)))\n",
    "print(\"Kappa is :\",cohen_kappa_score(y_test,prediction))\n",
    "print(\"Sensitiviy is :\",recall_score(y_test, prediction,pos_label=\"positive\",average=\"micro\"))\n",
    "print(\"Precision is :\",precision_score(y_test, prediction,pos_label=\"positive\",average=\"micro\"))\n",
    "print(\"R2 score is:\",r2_score(y_test,prediction))\n",
    "# fpr, tpr, thresholds = roc_curve(y_test,prediction)\n",
    "# print(\"Area under curve is  :{}\".format(auc(fpr,tpr)))\n",
    "pprint(confusion_matrix(y_test, prediction))\n",
    "pprint(classification_report(y_test, prediction))"
   ]
  },
  {
   "cell_type": "code",
   "execution_count": 76,
   "metadata": {},
   "outputs": [],
   "source": [
    "bc=BaggingClassifier()\n",
    "bc.fit(x_train,y_train)\n",
    "prediction=bc.predict(x_test)"
   ]
  },
  {
   "cell_type": "code",
   "execution_count": 77,
   "metadata": {},
   "outputs": [
    {
     "name": "stdout",
     "output_type": "stream",
     "text": [
      "     Act  Predicted\n",
      "9      1          1\n",
      "197    7          7\n",
      "66     1          1\n",
      "191    7          7\n",
      "117    2          2\n",
      "..   ...        ...\n",
      "5      1          2\n",
      "135    2          2\n",
      "56     1          1\n",
      "199    7          7\n",
      "173    5          2\n",
      "\n",
      "[65 rows x 2 columns]\n"
     ]
    }
   ],
   "source": [
    "output=pd.DataFrame({\"Act\":y_test,\"Predicted\":prediction})\n",
    "print(output)"
   ]
  },
  {
   "cell_type": "code",
   "execution_count": 78,
   "metadata": {},
   "outputs": [
    {
     "name": "stdout",
     "output_type": "stream",
     "text": [
      "accuracy score is 0.7846153846153846\n",
      "Kappa is : 0.7097288676236044\n",
      "Sensitiviy is : 0.7846153846153846\n",
      "Precision is : 0.7846153846153846\n",
      "R2 score is: 0.7193548387096774\n",
      "array([[16,  2,  0,  0,  0,  1],\n",
      "       [ 5, 17,  0,  0,  0,  1],\n",
      "       [ 2,  1,  1,  0,  0,  0],\n",
      "       [ 0,  1,  0,  5,  0,  0],\n",
      "       [ 0,  0,  0,  0,  2,  1],\n",
      "       [ 0,  0,  0,  0,  0, 10]], dtype=int64)\n",
      "('              precision    recall  f1-score   support\\n'\n",
      " '\\n'\n",
      " '           1       0.70      0.84      0.76        19\\n'\n",
      " '           2       0.81      0.74      0.77        23\\n'\n",
      " '           3       1.00      0.25      0.40         4\\n'\n",
      " '           5       1.00      0.83      0.91         6\\n'\n",
      " '           6       1.00      0.67      0.80         3\\n'\n",
      " '           7       0.77      1.00      0.87        10\\n'\n",
      " '\\n'\n",
      " '    accuracy                           0.78        65\\n'\n",
      " '   macro avg       0.88      0.72      0.75        65\\n'\n",
      " 'weighted avg       0.81      0.78      0.78        65\\n')\n"
     ]
    },
    {
     "name": "stderr",
     "output_type": "stream",
     "text": [
      "c:\\users\\acer\\appdata\\local\\programs\\python\\python36\\lib\\site-packages\\sklearn\\metrics\\classification.py:1259: UserWarning: Note that pos_label (set to 'positive') is ignored when average != 'binary' (got 'micro'). You may use labels=[pos_label] to specify a single positive class.\n",
      "  % (pos_label, average), UserWarning)\n"
     ]
    }
   ],
   "source": [
    "print(\"accuracy score is {}\".format(accuracy_score(y_test,prediction)))\n",
    "print(\"Kappa is :\",cohen_kappa_score(y_test,prediction))\n",
    "print(\"Sensitiviy is :\",recall_score(y_test, prediction,pos_label=\"positive\",average=\"micro\"))\n",
    "print(\"Precision is :\",precision_score(y_test, prediction,pos_label=\"positive\",average=\"micro\"))\n",
    "print(\"R2 score is:\",r2_score(y_test,prediction))\n",
    "# fpr, tpr, thresholds = roc_curve(y_test,prediction)\n",
    "# print(\"Area under curve is  :{}\".format(auc(fpr,tpr)))\n",
    "pprint(confusion_matrix(y_test, prediction))\n",
    "pprint(classification_report(y_test, prediction))"
   ]
  },
  {
   "cell_type": "code",
   "execution_count": 79,
   "metadata": {},
   "outputs": [
    {
     "name": "stderr",
     "output_type": "stream",
     "text": [
      "c:\\users\\acer\\appdata\\local\\programs\\python\\python36\\lib\\site-packages\\sklearn\\ensemble\\forest.py:245: FutureWarning: The default value of n_estimators will change from 10 in version 0.20 to 100 in 0.22.\n",
      "  \"10 in version 0.20 to 100 in 0.22.\", FutureWarning)\n"
     ]
    }
   ],
   "source": [
    "etc=ExtraTreesClassifier()\n",
    "etc.fit(x_train,y_train)\n",
    "prediction=etc.predict(x_test)"
   ]
  },
  {
   "cell_type": "code",
   "execution_count": 80,
   "metadata": {},
   "outputs": [
    {
     "name": "stdout",
     "output_type": "stream",
     "text": [
      "     Act  Predicted\n",
      "9      1          1\n",
      "197    7          7\n",
      "66     1          1\n",
      "191    7          7\n",
      "117    2          2\n",
      "..   ...        ...\n",
      "5      1          2\n",
      "135    2          2\n",
      "56     1          1\n",
      "199    7          7\n",
      "173    5          2\n",
      "\n",
      "[65 rows x 2 columns]\n"
     ]
    }
   ],
   "source": [
    "output=pd.DataFrame({\"Act\":y_test,\"Predicted\":prediction})\n",
    "print(output)"
   ]
  },
  {
   "cell_type": "code",
   "execution_count": 81,
   "metadata": {},
   "outputs": [
    {
     "name": "stdout",
     "output_type": "stream",
     "text": [
      "accuracy score is 0.7538461538461538\n",
      "Kappa is : 0.6649484536082475\n",
      "Sensitiviy is : 0.7538461538461538\n",
      "Precision is : 0.7538461538461538\n",
      "R2 score is: 0.7451612903225806\n",
      "array([[17,  1,  1,  0,  0,  0],\n",
      "       [ 5, 17,  0,  0,  0,  1],\n",
      "       [ 4,  0,  0,  0,  0,  0],\n",
      "       [ 0,  3,  0,  3,  0,  0],\n",
      "       [ 0,  0,  0,  1,  2,  0],\n",
      "       [ 0,  0,  0,  0,  0, 10]], dtype=int64)\n",
      "('              precision    recall  f1-score   support\\n'\n",
      " '\\n'\n",
      " '           1       0.65      0.89      0.76        19\\n'\n",
      " '           2       0.81      0.74      0.77        23\\n'\n",
      " '           3       0.00      0.00      0.00         4\\n'\n",
      " '           5       0.75      0.50      0.60         6\\n'\n",
      " '           6       1.00      0.67      0.80         3\\n'\n",
      " '           7       0.91      1.00      0.95        10\\n'\n",
      " '\\n'\n",
      " '    accuracy                           0.75        65\\n'\n",
      " '   macro avg       0.69      0.63      0.65        65\\n'\n",
      " 'weighted avg       0.73      0.75      0.73        65\\n')\n"
     ]
    },
    {
     "name": "stderr",
     "output_type": "stream",
     "text": [
      "c:\\users\\acer\\appdata\\local\\programs\\python\\python36\\lib\\site-packages\\sklearn\\metrics\\classification.py:1259: UserWarning: Note that pos_label (set to 'positive') is ignored when average != 'binary' (got 'micro'). You may use labels=[pos_label] to specify a single positive class.\n",
      "  % (pos_label, average), UserWarning)\n"
     ]
    }
   ],
   "source": [
    "print(\"accuracy score is {}\".format(accuracy_score(y_test,prediction)))\n",
    "print(\"Kappa is :\",cohen_kappa_score(y_test,prediction))\n",
    "print(\"Sensitiviy is :\",recall_score(y_test, prediction,pos_label=\"positive\",average=\"micro\"))\n",
    "print(\"Precision is :\",precision_score(y_test, prediction,pos_label=\"positive\",average=\"micro\"))\n",
    "print(\"R2 score is:\",r2_score(y_test,prediction))\n",
    "# fpr, tpr, thresholds = roc_curve(y_test,prediction)\n",
    "# print(\"Area under curve is  :{}\".format(auc(fpr,tpr)))\n",
    "pprint(confusion_matrix(y_test, prediction))\n",
    "pprint(classification_report(y_test, prediction))"
   ]
  },
  {
   "cell_type": "code",
   "execution_count": 84,
   "metadata": {},
   "outputs": [],
   "source": [
    "gnb=GaussianNB()\n",
    "gnb.fit(x_train,y_train)\n",
    "prediction=gnb.predict(x_test)"
   ]
  },
  {
   "cell_type": "code",
   "execution_count": 85,
   "metadata": {},
   "outputs": [
    {
     "name": "stdout",
     "output_type": "stream",
     "text": [
      "     Act  Predicted\n",
      "9      1          3\n",
      "197    7          7\n",
      "66     1          3\n",
      "191    7          7\n",
      "117    2          3\n",
      "..   ...        ...\n",
      "5      1          3\n",
      "135    2          3\n",
      "56     1          3\n",
      "199    7          7\n",
      "173    5          2\n",
      "\n",
      "[65 rows x 2 columns]\n"
     ]
    }
   ],
   "source": [
    "output=pd.DataFrame({\"Act\":y_test,\"Predicted\":prediction})\n",
    "print(output)"
   ]
  },
  {
   "cell_type": "code",
   "execution_count": 86,
   "metadata": {},
   "outputs": [
    {
     "name": "stdout",
     "output_type": "stream",
     "text": [
      "accuracy score is 0.3076923076923077\n",
      "Kappa is : 0.20581048058647822\n",
      "Sensitiviy is : 0.3076923076923077\n",
      "Precision is : 0.3076923076923077\n",
      "R2 score is: 0.38064516129032255\n",
      "array([[ 0,  1, 18,  0,  0,  0],\n",
      "       [ 1,  4, 15,  1,  1,  1],\n",
      "       [ 1,  0,  3,  0,  0,  0],\n",
      "       [ 0,  5,  0,  1,  0,  0],\n",
      "       [ 0,  0,  0,  0,  3,  0],\n",
      "       [ 0,  0,  0,  1,  0,  9]], dtype=int64)\n",
      "('              precision    recall  f1-score   support\\n'\n",
      " '\\n'\n",
      " '           1       0.00      0.00      0.00        19\\n'\n",
      " '           2       0.40      0.17      0.24        23\\n'\n",
      " '           3       0.08      0.75      0.15         4\\n'\n",
      " '           5       0.33      0.17      0.22         6\\n'\n",
      " '           6       0.75      1.00      0.86         3\\n'\n",
      " '           7       0.90      0.90      0.90        10\\n'\n",
      " '\\n'\n",
      " '    accuracy                           0.31        65\\n'\n",
      " '   macro avg       0.41      0.50      0.40        65\\n'\n",
      " 'weighted avg       0.35      0.31      0.29        65\\n')\n"
     ]
    },
    {
     "name": "stderr",
     "output_type": "stream",
     "text": [
      "c:\\users\\acer\\appdata\\local\\programs\\python\\python36\\lib\\site-packages\\sklearn\\metrics\\classification.py:1259: UserWarning: Note that pos_label (set to 'positive') is ignored when average != 'binary' (got 'micro'). You may use labels=[pos_label] to specify a single positive class.\n",
      "  % (pos_label, average), UserWarning)\n"
     ]
    }
   ],
   "source": [
    "print(\"accuracy score is {}\".format(accuracy_score(y_test,prediction)))\n",
    "print(\"Kappa is :\",cohen_kappa_score(y_test,prediction))\n",
    "print(\"Sensitiviy is :\",recall_score(y_test, prediction,pos_label=\"positive\",average=\"micro\"))\n",
    "print(\"Precision is :\",precision_score(y_test, prediction,pos_label=\"positive\",average=\"micro\"))\n",
    "print(\"R2 score is:\",r2_score(y_test,prediction))\n",
    "# fpr, tpr, thresholds = roc_curve(y_test,prediction)\n",
    "# print(\"Area under curve is  :{}\".format(auc(fpr,tpr)))\n",
    "pprint(confusion_matrix(y_test, prediction))\n",
    "pprint(classification_report(y_test, prediction))"
   ]
  },
  {
   "cell_type": "code",
   "execution_count": 89,
   "metadata": {},
   "outputs": [],
   "source": [
    "sgd=SGDClassifier()\n",
    "sgd.fit(x_train,y_train)\n",
    "prediction=sgd.predict(x_test)"
   ]
  },
  {
   "cell_type": "code",
   "execution_count": 90,
   "metadata": {},
   "outputs": [
    {
     "name": "stdout",
     "output_type": "stream",
     "text": [
      "     Act  Predicted\n",
      "9      1          1\n",
      "197    7          7\n",
      "66     1          1\n",
      "191    7          7\n",
      "117    2          1\n",
      "..   ...        ...\n",
      "5      1          1\n",
      "135    2          1\n",
      "56     1          1\n",
      "199    7          7\n",
      "173    5          7\n",
      "\n",
      "[65 rows x 2 columns]\n"
     ]
    }
   ],
   "source": [
    "output=pd.DataFrame({\"Act\":y_test,\"Predicted\":prediction})\n",
    "print(output)"
   ]
  },
  {
   "cell_type": "code",
   "execution_count": 91,
   "metadata": {},
   "outputs": [
    {
     "name": "stdout",
     "output_type": "stream",
     "text": [
      "accuracy score is 0.4461538461538462\n",
      "Kappa is : 0.27216174183514774\n",
      "Sensitiviy is : 0.4461538461538462\n",
      "Precision is : 0.4461538461538462\n",
      "R2 score is: 0.32258064516129037\n",
      "array([[19,  0,  0,  0,  0,  0],\n",
      "       [17,  0,  0,  0,  0,  6],\n",
      "       [ 4,  0,  0,  0,  0,  0],\n",
      "       [ 0,  0,  0,  0,  0,  6],\n",
      "       [ 0,  0,  0,  0,  0,  3],\n",
      "       [ 0,  0,  0,  0,  0, 10]], dtype=int64)\n",
      "('              precision    recall  f1-score   support\\n'\n",
      " '\\n'\n",
      " '           1       0.47      1.00      0.64        19\\n'\n",
      " '           2       0.00      0.00      0.00        23\\n'\n",
      " '           3       0.00      0.00      0.00         4\\n'\n",
      " '           5       0.00      0.00      0.00         6\\n'\n",
      " '           6       0.00      0.00      0.00         3\\n'\n",
      " '           7       0.40      1.00      0.57        10\\n'\n",
      " '\\n'\n",
      " '    accuracy                           0.45        65\\n'\n",
      " '   macro avg       0.15      0.33      0.20        65\\n'\n",
      " 'weighted avg       0.20      0.45      0.28        65\\n')\n"
     ]
    },
    {
     "name": "stderr",
     "output_type": "stream",
     "text": [
      "c:\\users\\acer\\appdata\\local\\programs\\python\\python36\\lib\\site-packages\\sklearn\\metrics\\classification.py:1259: UserWarning: Note that pos_label (set to 'positive') is ignored when average != 'binary' (got 'micro'). You may use labels=[pos_label] to specify a single positive class.\n",
      "  % (pos_label, average), UserWarning)\n",
      "c:\\users\\acer\\appdata\\local\\programs\\python\\python36\\lib\\site-packages\\sklearn\\metrics\\classification.py:1437: UndefinedMetricWarning: Precision and F-score are ill-defined and being set to 0.0 in labels with no predicted samples.\n",
      "  'precision', 'predicted', average, warn_for)\n"
     ]
    }
   ],
   "source": [
    "print(\"accuracy score is {}\".format(accuracy_score(y_test,prediction)))\n",
    "print(\"Kappa is :\",cohen_kappa_score(y_test,prediction))\n",
    "print(\"Sensitiviy is :\",recall_score(y_test, prediction,pos_label=\"positive\",average=\"micro\"))\n",
    "print(\"Precision is :\",precision_score(y_test, prediction,pos_label=\"positive\",average=\"micro\"))\n",
    "print(\"R2 score is:\",r2_score(y_test,prediction))\n",
    "# fpr, tpr, thresholds = roc_curve(y_test,prediction)\n",
    "# print(\"Area under curve is  :{}\".format(auc(fpr,tpr)))\n",
    "pprint(confusion_matrix(y_test, prediction))\n",
    "pprint(classification_report(y_test, prediction))"
   ]
  },
  {
   "cell_type": "code",
   "execution_count": null,
   "metadata": {},
   "outputs": [],
   "source": []
  },
  {
   "cell_type": "code",
   "execution_count": null,
   "metadata": {},
   "outputs": [],
   "source": []
  },
  {
   "cell_type": "code",
   "execution_count": null,
   "metadata": {},
   "outputs": [],
   "source": []
  },
  {
   "cell_type": "code",
   "execution_count": null,
   "metadata": {},
   "outputs": [],
   "source": []
  },
  {
   "cell_type": "code",
   "execution_count": null,
   "metadata": {},
   "outputs": [],
   "source": []
  },
  {
   "cell_type": "code",
   "execution_count": null,
   "metadata": {},
   "outputs": [],
   "source": []
  },
  {
   "cell_type": "code",
   "execution_count": null,
   "metadata": {},
   "outputs": [],
   "source": []
  },
  {
   "cell_type": "code",
   "execution_count": null,
   "metadata": {},
   "outputs": [],
   "source": []
  },
  {
   "cell_type": "code",
   "execution_count": null,
   "metadata": {},
   "outputs": [],
   "source": []
  },
  {
   "cell_type": "code",
   "execution_count": null,
   "metadata": {},
   "outputs": [],
   "source": []
  },
  {
   "cell_type": "code",
   "execution_count": null,
   "metadata": {},
   "outputs": [],
   "source": []
  },
  {
   "cell_type": "code",
   "execution_count": null,
   "metadata": {},
   "outputs": [],
   "source": []
  },
  {
   "cell_type": "code",
   "execution_count": null,
   "metadata": {},
   "outputs": [],
   "source": []
  },
  {
   "cell_type": "code",
   "execution_count": null,
   "metadata": {},
   "outputs": [],
   "source": []
  },
  {
   "cell_type": "code",
   "execution_count": null,
   "metadata": {},
   "outputs": [],
   "source": []
  },
  {
   "cell_type": "code",
   "execution_count": null,
   "metadata": {},
   "outputs": [],
   "source": []
  },
  {
   "cell_type": "code",
   "execution_count": null,
   "metadata": {},
   "outputs": [],
   "source": []
  },
  {
   "cell_type": "code",
   "execution_count": null,
   "metadata": {},
   "outputs": [],
   "source": []
  },
  {
   "cell_type": "code",
   "execution_count": null,
   "metadata": {},
   "outputs": [],
   "source": []
  },
  {
   "cell_type": "code",
   "execution_count": null,
   "metadata": {},
   "outputs": [],
   "source": []
  },
  {
   "cell_type": "code",
   "execution_count": null,
   "metadata": {},
   "outputs": [],
   "source": []
  },
  {
   "cell_type": "code",
   "execution_count": null,
   "metadata": {},
   "outputs": [],
   "source": []
  },
  {
   "cell_type": "code",
   "execution_count": null,
   "metadata": {},
   "outputs": [],
   "source": []
  }
 ],
 "metadata": {
  "kernelspec": {
   "display_name": "Python 3",
   "language": "python",
   "name": "python3"
  },
  "language_info": {
   "codemirror_mode": {
    "name": "ipython",
    "version": 3
   },
   "file_extension": ".py",
   "mimetype": "text/x-python",
   "name": "python",
   "nbconvert_exporter": "python",
   "pygments_lexer": "ipython3",
   "version": "3.6.5"
  }
 },
 "nbformat": 4,
 "nbformat_minor": 2
}
